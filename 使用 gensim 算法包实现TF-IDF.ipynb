{
 "cells": [
  {
   "cell_type": "markdown",
   "metadata": {},
   "source": [
    "# 使用 gensim 算法包实现TF-IDF"
   ]
  },
  {
   "cell_type": "code",
   "execution_count": 13,
   "metadata": {},
   "outputs": [],
   "source": [
    "from gensim import corpora"
   ]
  },
  {
   "cell_type": "code",
   "execution_count": 14,
   "metadata": {},
   "outputs": [],
   "source": [
    "# 输入语料库\n",
    "corpus = ['I graduated from BUPT BUPT is beijing university of posts and telecommunications',\n",
    "        'I work in ByteDance',\n",
    "        'I am living in guangdong province',\n",
    "        'my favorite sports is playing basketball']\n",
    "\n"
   ]
  },
  {
   "cell_type": "markdown",
   "metadata": {},
   "source": [
    "### 获取每个词语的 id 和词频"
   ]
  },
  {
   "cell_type": "code",
   "execution_count": 15,
   "metadata": {},
   "outputs": [
    {
     "name": "stdout",
     "output_type": "stream",
     "text": [
      "[['I', 'graduated', 'from', 'BUPT', 'BUPT', 'is', 'beijing', 'university', 'of', 'posts', 'and', 'telecommunications'], ['I', 'work', 'in', 'ByteDance'], ['I', 'am', 'living', 'in', 'guangdong', 'province'], ['my', 'favorite', 'sports', 'is', 'playing', 'basketball']]\n"
     ]
    }
   ],
   "source": [
    "words_list = list()\n",
    "for i in range(len(corpus)):\n",
    "    words_list.append(corpus[i].split(' '))\n",
    "print(words_list)"
   ]
  },
  {
   "cell_type": "code",
   "execution_count": 16,
   "metadata": {},
   "outputs": [
    {
     "name": "stdout",
     "output_type": "stream",
     "text": [
      "[[(0, 2), (1, 1), (2, 1), (3, 1), (4, 1), (5, 1), (6, 1), (7, 1), (8, 1), (9, 1), (10, 1)], [(1, 1), (11, 1), (12, 1), (13, 1)], [(1, 1), (12, 1), (14, 1), (15, 1), (16, 1), (17, 1)], [(6, 1), (18, 1), (19, 1), (20, 1), (21, 1), (22, 1)]]\n"
     ]
    }
   ],
   "source": [
    "dic = corpora.Dictionary(words_list)\n",
    "# 赋给语料库中每个词(不重复的词)一个整数id\n",
    "new_corpus = [dic.doc2bow(words) for words in words_list]\n",
    "print(new_corpus)"
   ]
  },
  {
   "cell_type": "markdown",
   "metadata": {},
   "source": [
    "### 查看每个词语对应的 id"
   ]
  },
  {
   "cell_type": "code",
   "execution_count": 17,
   "metadata": {},
   "outputs": [
    {
     "name": "stdout",
     "output_type": "stream",
     "text": [
      "{'BUPT': 0, 'I': 1, 'and': 2, 'beijing': 3, 'from': 4, 'graduated': 5, 'is': 6, 'of': 7, 'posts': 8, 'telecommunications': 9, 'university': 10, 'ByteDance': 11, 'in': 12, 'work': 13, 'am': 14, 'guangdong': 15, 'living': 16, 'province': 17, 'basketball': 18, 'favorite': 19, 'my': 20, 'playing': 21, 'sports': 22}\n"
     ]
    }
   ],
   "source": [
    "print(dic.token2id)"
   ]
  },
  {
   "cell_type": "code",
   "execution_count": 18,
   "metadata": {},
   "outputs": [
    {
     "name": "stdout",
     "output_type": "stream",
     "text": [
      "[[(2, 0.3481553119113957), (3, 0.3481553119113957), (4, 0.3481553119113957), (5, 0.3481553119113957), (6, 0.17407765595569785), (7, 0.3481553119113957), (8, 0.3481553119113957), (9, 0.3481553119113957), (10, 0.3481553119113957)], [(12, 0.4472135954999579), (13, 0.8944271909999159)], [(12, 0.24253562503633297), (14, 0.48507125007266594), (15, 0.48507125007266594), (16, 0.48507125007266594), (17, 0.48507125007266594)], [(6, 0.2182178902359924), (18, 0.4364357804719848), (19, 0.4364357804719848), (20, 0.4364357804719848), (21, 0.4364357804719848), (22, 0.4364357804719848)]]\n"
     ]
    }
   ],
   "source": [
    "# 训练模型并保存\n",
    "from gensim import models\n",
    "tfidf = models.TfidfModel(new_corpus)\n",
    "tfidf.save(\"tfidf.model\")\n",
    "# 载入模型\n",
    "tfidf = models.TfidfModel.load(\"tfidf.model\")\n",
    "# 使用这个训练好的模型得到单词的tfidf值\n",
    "tfidf_vec = []\n",
    "for i in range(len(corpus)):\n",
    "    string = corpus[i]\n",
    "    string_bow = dic.doc2bow(string.lower().split())\n",
    "    string_tfidf = tfidf[string_bow]\n",
    "    tfidf_vec.append(string_tfidf)\n",
    "# 输出 词语id与词语tfidf值\n",
    "print(tfidf_vec)"
   ]
  },
  {
   "cell_type": "code",
   "execution_count": 20,
   "metadata": {},
   "outputs": [
    {
     "name": "stdout",
     "output_type": "stream",
     "text": [
      "[(6, 0.2182178902359924), (18, 0.4364357804719848), (19, 0.4364357804719848), (20, 0.4364357804719848), (21, 0.4364357804719848), (22, 0.4364357804719848)]\n"
     ]
    }
   ],
   "source": [
    "# 测试一个句子\n",
    "test_words = \"i love basketball\"\n",
    "string_bow = dic.doc2bow(string.lower().split())\n",
    "string_tfidf = tfidf[string_bow]\n",
    "print(string_tfidf)"
   ]
  },
  {
   "cell_type": "markdown",
   "metadata": {},
   "source": [
    "这里需要注意的是，在打印 tf-idf 值的时候会发现只会显示部分词语，这是因为 gensim 会自动的去除停用词。"
   ]
  },
  {
   "cell_type": "code",
   "execution_count": null,
   "metadata": {},
   "outputs": [],
   "source": []
  }
 ],
 "metadata": {
  "kernelspec": {
   "display_name": "Python 3",
   "language": "python",
   "name": "python3"
  },
  "language_info": {
   "codemirror_mode": {
    "name": "ipython",
    "version": 3
   },
   "file_extension": ".py",
   "mimetype": "text/x-python",
   "name": "python",
   "nbconvert_exporter": "python",
   "pygments_lexer": "ipython3",
   "version": "3.7.6"
  }
 },
 "nbformat": 4,
 "nbformat_minor": 4
}
