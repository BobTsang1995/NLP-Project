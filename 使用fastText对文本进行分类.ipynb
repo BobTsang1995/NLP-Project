{
 "cells": [
  {
   "cell_type": "markdown",
   "metadata": {},
   "source": [
    "# 使用fastText对文本进行分类\n",
    "数据源为清华大学的新闻分类文本数据集\n",
    "### 第一步获取分类文本：输出数据格式： 样本 + 样本标签"
   ]
  },
  {
   "cell_type": "code",
   "execution_count": 2,
   "metadata": {},
   "outputs": [],
   "source": [
    "import jieba\n",
    "import os"
   ]
  },
  {
   "cell_type": "code",
   "execution_count": 3,
   "metadata": {},
   "outputs": [
    {
     "name": "stderr",
     "output_type": "stream",
     "text": [
      "Building prefix dict from the default dictionary ...\n",
      "Dumping model to file cache /var/folders/rv/4n3zthdd11s0jdnqdxk070mw0000gn/T/jieba.cache\n",
      "Loading model cost 0.992 seconds.\n",
      "Prefix dict has been built successfully.\n"
     ]
    },
    {
     "name": "stdout",
     "output_type": "stream",
     "text": [
      "完成输出数据！\n"
     ]
    }
   ],
   "source": [
    "basedir = \"/Users/bob/Downloads/THUCNews/\"\n",
    "dir_list = ['affairs','constellation','economic','edu','ent','fashion','game','home','house','lottery','science','sports','society','stock']\n",
    "# 生成fastext的训练和测试数据集\n",
    "\n",
    "ftrain = open(\"news_fasttext_train.txt\",\"w\")\n",
    "ftest = open(\"news_fasttext_test.txt\",\"w\")\n",
    "\n",
    "num = -1\n",
    "for e in dir_list:\n",
    "    num += 1\n",
    "    indir = basedir + e + '/'\n",
    "    files = os.listdir(indir)\n",
    "    count = 0\n",
    "    for fileName in files:\n",
    "        count += 1            \n",
    "        filepath = indir + fileName\n",
    "        with open(filepath,'r') as fr:\n",
    "            text = fr.read()\n",
    "        text = str(text.encode(\"utf-8\"),'utf-8')\n",
    "        seg_text = jieba.cut(text.replace(\"\\t\",\" \").replace(\"\\n\",\" \"))\n",
    "        outline = \" \".join(seg_text)\n",
    "        outline = outline + \"\\t__label__\" + e + \"\\n\"\n",
    "#         print outline\n",
    "#         break\n",
    "\n",
    "        if count < 10000:\n",
    "            ftrain.write(outline)\n",
    "            ftrain.flush()\n",
    "            continue\n",
    "        elif count  < 20000:\n",
    "            ftest.write(outline)\n",
    "            ftest.flush()\n",
    "            continue\n",
    "        else:\n",
    "            break\n",
    "\n",
    "ftrain.close()\n",
    "ftest.close()\n",
    "print('完成输出数据！')"
   ]
  },
  {
   "cell_type": "code",
   "execution_count": 4,
   "metadata": {},
   "outputs": [
    {
     "name": "stdout",
     "output_type": "stream",
     "text": [
      "训练完成！\n"
     ]
    }
   ],
   "source": [
    "import fasttext\n",
    "#训练模型\n",
    "classifier = fasttext.train_supervised(\"news_fasttext_train.txt\",label_prefix=\"__label__\")\n",
    "\n",
    "#load训练好的模型\n",
    "#classifier = fasttext.load_model('news_fasttext.model.bin', label_prefix='__label__')\n",
    "print('训练完成！')"
   ]
  },
  {
   "cell_type": "code",
   "execution_count": 5,
   "metadata": {},
   "outputs": [
    {
     "name": "stdout",
     "output_type": "stream",
     "text": [
      "precision： 0.8779119512388748\n"
     ]
    }
   ],
   "source": [
    "result = classifier.test(\"news_fasttext_test.txt\")\n",
    "print('precision：', result[1])"
   ]
  },
  {
   "cell_type": "code",
   "execution_count": 6,
   "metadata": {},
   "outputs": [
    {
     "name": "stdout",
     "output_type": "stream",
     "text": [
      "['__label__edu', '__label__science', '__label__affairs', '__label__ent', '__label__economic', '__label__lottery', '__label__constellation', '__label__society', '__label__game', '__label__home', '__label__house', '__label__stock', '__label__sports', '__label__fashion']\n",
      "['sports', 'game', 'fashion', 'science', 'stock', 'economic', 'house', 'ent', 'home', 'affairs', 'edu', 'society']\n",
      "\n",
      "预测正确的各个类的数目: {'sports': 9725, 'game': 7755, 'fashion': 3188, 'science': 9044, 'stock': 8804, 'economic': 8716, 'house': 9522, 'ent': 9113, 'home': 7877, 'affairs': 7271, 'edu': 9316, 'society': 9197}\n",
      "\n",
      "测试数据集中各个类的数目: {'sports': 10000, 'game': 10000, 'fashion': 3369, 'science': 10000, 'stock': 10000, 'economic': 10000, 'house': 10000, 'ent': 10000, 'home': 10000, 'affairs': 10000, 'edu': 10000, 'society': 10000}\n",
      "\n",
      "预测结果中各个类的数目: {'__label__edu': 10103, '__label__science': 12166, '__label__affairs': 7496, '__label__ent': 9877, '__label__economic': 9228, '__label__lottery': 458, '__label__constellation': 10, '__label__society': 11664, '__label__game': 7885, '__label__home': 8328, '__label__house': 10989, '__label__stock': 10025, '__label__sports': 10828, '__label__fashion': 4312}\n",
      "\n",
      "sports:\t p:0.898134\t r:0.972500\t f:0.933839\n",
      "game:\t p:0.983513\t r:0.775500\t f:0.867207\n",
      "fashion:\t p:0.739332\t r:0.946275\t f:0.830100\n",
      "science:\t p:0.743383\t r:0.904400\t f:0.816025\n",
      "stock:\t p:0.878204\t r:0.880400\t f:0.879301\n",
      "economic:\t p:0.944517\t r:0.871600\t f:0.906595\n",
      "house:\t p:0.866503\t r:0.952200\t f:0.907332\n",
      "ent:\t p:0.922649\t r:0.911300\t f:0.916939\n",
      "home:\t p:0.945845\t r:0.787700\t f:0.859559\n",
      "affairs:\t p:0.969984\t r:0.727100\t f:0.831161\n",
      "edu:\t p:0.922102\t r:0.931600\t f:0.926827\n",
      "society:\t p:0.788495\t r:0.919700\t f:0.849058\n"
     ]
    }
   ],
   "source": [
    "labels_right = []\n",
    "texts = []\n",
    "with open(\"news_fasttext_test.txt\") as fr:\n",
    "    for line in fr:\n",
    "        line = str(line.encode(\"utf-8\"), 'utf-8').rstrip()\n",
    "        labels_right.append(line.split(\"\\t\")[1].replace(\"__label__\",\"\"))\n",
    "        texts.append(line.split(\"\\t\")[0])\n",
    "    #     print labels\n",
    "    #     print texts\n",
    "#     break\n",
    "labels_predict = [term[0] for term in classifier.predict(texts)[0]] #预测输出结果为二维形式\n",
    "# print labels_predict\n",
    "\n",
    "text_labels = list(set(labels_right))\n",
    "text_predict_labels = list(set(labels_predict))\n",
    "print(text_predict_labels)\n",
    "print(text_labels)\n",
    "print()\n",
    "\n",
    "A = dict.fromkeys(text_labels,0)  #预测正确的各个类的数目\n",
    "B = dict.fromkeys(text_labels,0)   #测试数据集中各个类的数目\n",
    "C = dict.fromkeys(text_predict_labels,0) #预测结果中各个类的数目\n",
    "for i in range(0,len(labels_right)):\n",
    "    B[labels_right[i]] += 1\n",
    "    C[labels_predict[i]] += 1\n",
    "    if labels_right[i] == labels_predict[i].replace('__label__', ''):\n",
    "        A[labels_right[i]] += 1\n",
    "\n",
    "print('预测正确的各个类的数目:', A) \n",
    "print()\n",
    "print('测试数据集中各个类的数目:', B)\n",
    "print()\n",
    "print('预测结果中各个类的数目:', C)\n",
    "print()\n",
    "#计算准确率，召回率，F值\n",
    "for key in B:\n",
    "    try:\n",
    "        r = float(A[key]) / float(B[key])\n",
    "        p = float(A[key]) / float(C['__label__' + key])\n",
    "        f = p * r * 2 / (p + r)\n",
    "        print(\"%s:\\t p:%f\\t r:%f\\t f:%f\" % (key,p,r,f))\n",
    "    except:\n",
    "        print(\"error:\", key, \"right:\", A.get(key,0), \"real:\", B.get(key,0), \"predict:\",C.get(key,0))"
   ]
  },
  {
   "cell_type": "code",
   "execution_count": null,
   "outputs": [],
   "source": [],
   "metadata": {
    "collapsed": false,
    "pycharm": {
     "name": "#%%\n"
    }
   }
  },
  {
   "cell_type": "code",
   "execution_count": null,
   "metadata": {},
   "outputs": [],
   "source": []
  }
 ],
 "metadata": {
  "kernelspec": {
   "display_name": "Python 3",
   "language": "python",
   "name": "python3"
  },
  "language_info": {
   "codemirror_mode": {
    "name": "ipython",
    "version": 3
   },
   "file_extension": ".py",
   "mimetype": "text/x-python",
   "name": "python",
   "nbconvert_exporter": "python",
   "pygments_lexer": "ipython3",
   "version": "3.7.6"
  }
 },
 "nbformat": 4,
 "nbformat_minor": 4
}