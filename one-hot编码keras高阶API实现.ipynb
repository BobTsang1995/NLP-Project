{
 "cells": [
  {
   "cell_type": "code",
   "execution_count": 3,
   "metadata": {},
   "outputs": [
    {
     "name": "stdout",
     "output_type": "stream",
     "text": [
      "{'我': 1, '于': 2, '毕业': 3, '北京邮电大学': 4, '就职': 5, '字节跳动': 6}\n",
      "[[1, 3, 2, 4], [1, 5, 2, 6]]\n",
      "[[0. 1. 1. 1. 1. 0. 0.]\n",
      " [0. 1. 1. 0. 0. 1. 1.]]\n"
     ]
    }
   ],
   "source": [
    "# Keras高阶API实现one-hot编码\n",
    "from keras.preprocessing.text import Tokenizer\n",
    "\n",
    "samples_1 = ['我 毕业 于 北京邮电大学', '我 就职 于 字节跳动']\n",
    "\n",
    "# 构建单词索引\n",
    "tokenlizer = Tokenizer()\n",
    "tokenlizer.fit_on_texts(samples_1)\n",
    "\n",
    "word_index = tokenlizer.word_index\n",
    "print(word_index)\n",
    "\n",
    "sequence = tokenlizer.texts_to_sequences(samples_1)\n",
    "print(sequence)\n",
    "\n",
    "one_hot_res = tokenlizer.texts_to_matrix(samples_1)\n",
    "print(one_hot_res)"
   ]
  },
  {
   "cell_type": "code",
   "execution_count": null,
   "metadata": {},
   "outputs": [],
   "source": []
  }
 ],
 "metadata": {
  "kernelspec": {
   "display_name": "Python 3",
   "language": "python",
   "name": "python3"
  },
  "language_info": {
   "codemirror_mode": {
    "name": "ipython",
    "version": 3
   },
   "file_extension": ".py",
   "mimetype": "text/x-python",
   "name": "python",
   "nbconvert_exporter": "python",
   "pygments_lexer": "ipython3",
   "version": "3.7.6"
  }
 },
 "nbformat": 4,
 "nbformat_minor": 4
}
