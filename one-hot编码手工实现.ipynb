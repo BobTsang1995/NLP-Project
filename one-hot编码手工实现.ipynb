{
 "cells": [
  {
   "cell_type": "code",
   "execution_count": 1,
   "metadata": {},
   "outputs": [],
   "source": [
    "import numpy as np"
   ]
  },
  {
   "cell_type": "code",
   "execution_count": 2,
   "metadata": {},
   "outputs": [],
   "source": [
    "samples = ['我 毕业 于 北京邮电大学', '我 就职 于 字节跳动']"
   ]
  },
  {
   "cell_type": "code",
   "execution_count": 3,
   "metadata": {},
   "outputs": [
    {
     "name": "stdout",
     "output_type": "stream",
     "text": [
      "{'我': 1, '毕业': 2, '于': 3, '北京邮电大学': 4, '就职': 5, '字节跳动': 6}\n"
     ]
    }
   ],
   "source": [
    "# 文本索引\n",
    "token_index = {}\n",
    "for sample in samples:\n",
    "    for word in sample.split():\n",
    "        if word not in token_index:\n",
    "            token_index[word] = len(token_index) + 1\n",
    "\n",
    "print(token_index)"
   ]
  },
  {
   "cell_type": "code",
   "execution_count": 4,
   "metadata": {},
   "outputs": [
    {
     "name": "stdout",
     "output_type": "stream",
     "text": [
      "(2, 7, 7)\n",
      "0 1 我\n",
      "1 2 毕业\n",
      "2 3 于\n",
      "3 4 北京邮电大学\n",
      "0 1 我\n",
      "1 5 就职\n",
      "2 3 于\n",
      "3 6 字节跳动\n",
      "[[[0. 1. 0. 0. 0. 0. 0.]\n",
      "  [0. 0. 1. 0. 0. 0. 0.]\n",
      "  [0. 0. 0. 1. 0. 0. 0.]\n",
      "  [0. 0. 0. 0. 1. 0. 0.]\n",
      "  [0. 0. 0. 0. 0. 0. 0.]\n",
      "  [0. 0. 0. 0. 0. 0. 0.]\n",
      "  [0. 0. 0. 0. 0. 0. 0.]]\n",
      "\n",
      " [[0. 1. 0. 0. 0. 0. 0.]\n",
      "  [0. 0. 0. 0. 0. 1. 0.]\n",
      "  [0. 0. 0. 1. 0. 0. 0.]\n",
      "  [0. 0. 0. 0. 0. 0. 1.]\n",
      "  [0. 0. 0. 0. 0. 0. 0.]\n",
      "  [0. 0. 0. 0. 0. 0. 0.]\n",
      "  [0. 0. 0. 0. 0. 0. 0.]]]\n"
     ]
    }
   ],
   "source": [
    "# 第一种编码方式\n",
    "res_1 = np.zeros(shape=(len(samples), len(token_index) + 1, max(token_index.values()) + 1))\n",
    "print(res_1.shape)\n",
    "\n",
    "for i, sample in enumerate(samples):\n",
    "    for j, word in list(enumerate(sample.split())):\n",
    "        index = token_index.get(word)\n",
    "        print(j, index, word)\n",
    "        res_1[i, j, index] = 1\n",
    "print(res_1)"
   ]
  },
  {
   "cell_type": "code",
   "execution_count": 5,
   "metadata": {},
   "outputs": [
    {
     "name": "stdout",
     "output_type": "stream",
     "text": [
      "我\n",
      "1\n",
      "毕业\n",
      "2\n",
      "于\n",
      "3\n",
      "北京邮电大学\n",
      "4\n",
      "我\n",
      "1\n",
      "就职\n",
      "5\n",
      "于\n",
      "3\n",
      "字节跳动\n",
      "6\n",
      "[[0. 1. 1. 1. 1. 0. 0.]\n",
      " [0. 1. 0. 1. 0. 1. 1.]]\n"
     ]
    }
   ],
   "source": [
    "# 第二种编码方式\n",
    "res_2 = np.zeros(shape=(len(samples), max(token_index.values())+1))\n",
    "\n",
    "for i, sample in enumerate(samples):\n",
    "    # 第一种写法\n",
    "    # for word in sample.split():\n",
    "    # 第二种写法\n",
    "    for _, word in list(enumerate(sample.split())):\n",
    "        print(word)\n",
    "        index = token_index.get(word)\n",
    "        print(index)\n",
    "        res_2[i, index] = 1\n",
    "print(res_2)"
   ]
  },
  {
   "cell_type": "code",
   "execution_count": null,
   "metadata": {},
   "outputs": [],
   "source": []
  }
 ],
 "metadata": {
  "kernelspec": {
   "display_name": "Python 3",
   "language": "python",
   "name": "python3"
  },
  "language_info": {
   "codemirror_mode": {
    "name": "ipython",
    "version": 3
   },
   "file_extension": ".py",
   "mimetype": "text/x-python",
   "name": "python",
   "nbconvert_exporter": "python",
   "pygments_lexer": "ipython3",
   "version": "3.7.6"
  }
 },
 "nbformat": 4,
 "nbformat_minor": 4
}
